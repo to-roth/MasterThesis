{
 "cells": [
  {
   "cell_type": "code",
   "execution_count": 1,
   "metadata": {},
   "outputs": [],
   "source": [
    "import torch\n",
    "from torch_geometric.data import Data\n",
    "import numpy as np\n",
    "import tensorflow as tf\n",
    "import torch\n",
    "import torch.nn as nn\n",
    "from torch_geometric.datasets import QM9\n",
    "import numpy as np\n",
    "from torch.utils.data import random_split\n",
    "# import jax\n",
    "import matplotlib.pyplot as plt\n",
    "import os\n",
    "\n",
    "# Define a simple function to convert atom types to atomic numbers\n",
    "def atom_to_atomic_number(atom):\n",
    "    mapping = {'H': 1, 'O': 0}\n",
    "    return mapping.get(atom, 0)\n"
   ]
  },
  {
   "cell_type": "code",
   "execution_count": 2,
   "metadata": {},
   "outputs": [],
   "source": [
    "def parse_dataset(file_path):\n",
    "    with open(file_path, 'r') as file:\n",
    "        lines = file.readlines()\n",
    "\n",
    "    dataset = []\n",
    "    i = 0\n",
    "    while i < len(lines):\n",
    "        if lines[i].startswith('Energy'):\n",
    "            # Extract energy\n",
    "            energy = float(lines[i].split()[-1])\n",
    "            i += 1  # Move to the next line\n",
    "\n",
    "            atom_types = []\n",
    "            positions = []\n",
    "            while i < len(lines) and not lines[i].startswith('Energy'):\n",
    "                parts = lines[i].split()\n",
    "                if len(parts) == 4:  # Ensure the line is for an atom\n",
    "                    atom_types.append(atom_to_atomic_number(parts[0]))\n",
    "                    positions.append([float(part) for part in parts[1:]])\n",
    "                i += 1\n",
    "\n",
    "            # Convert to PyTorch tensors\n",
    "            atom_types_tensor = torch.tensor(atom_types, dtype=torch.long)\n",
    "            positions_tensor = torch.tensor(positions, dtype=torch.float)\n",
    "            energy_tensor = torch.tensor([energy], dtype=torch.float)\n",
    "\n",
    "            # Create a Data object\n",
    "            data = Data(x=atom_types_tensor, pos=positions_tensor, y=energy_tensor)\n",
    "            dataset.append(data)\n",
    "        else:\n",
    "            i += 1  # Skip lines that don't start with 'Energy'\n",
    "\n",
    "    return dataset\n",
    "\n",
    "# Load your dataset\n",
    "dataset = parse_dataset('water-DZ-F12-STATIC-g32n10-3M_PES-DZERO.xyz')\n"
   ]
  },
  {
   "cell_type": "code",
   "execution_count": 3,
   "metadata": {},
   "outputs": [
    {
     "name": "stdout",
     "output_type": "stream",
     "text": [
      "[ 0.02860095  0.          0.43550962 -0.95333518  0.         -0.71874285\n",
      "  0.49941735  0.         -0.36650326] [-76.24559204]\n",
      "36003 36003\n"
     ]
    }
   ],
   "source": [
    "import numpy as np\n",
    "import tensorflow as tf\n",
    "import torch\n",
    "import torch.nn as nn\n",
    "from torch_geometric.datasets import QM9\n",
    "import numpy as np\n",
    "from torch.utils.data import random_split\n",
    "# import jax\n",
    "import matplotlib.pyplot as plt\n",
    "import os\n",
    "\n",
    "# Function to read and process data from the input format\n",
    "def read_data(file_path):\n",
    "    with open(file_path, 'r') as file:\n",
    "        lines = file.readlines()\n",
    "\n",
    "    features = []\n",
    "    labels = []\n",
    "\n",
    "    i = 0\n",
    "    while i < len(lines):\n",
    "        num_atoms = int(lines[i])\n",
    "        energy = float(lines[i + 1].split()[-1])\n",
    "        label = np.array([energy])\n",
    "\n",
    "        atom_data = [line.split() for line in lines[i + 2:i + 2 + num_atoms]]\n",
    "        coordinates = np.array([[float(coord) for coord in atom[1:]] for atom in atom_data])\n",
    "\n",
    "        features.append(coordinates.flatten())\n",
    "        labels.append(label)\n",
    "\n",
    "        i += 2 + num_atoms\n",
    "\n",
    "    return np.array(features), np.array(labels)\n",
    "\n",
    "\n",
    "# Read data from the provided file\n",
    "file_path = 'water-DZ-F12-STATIC-g32n10-3M_PES-DZERO.xyz'\n",
    "features, labels = read_data(file_path)\n",
    "print(features[3], labels[3])\n",
    "print(len(features), len(labels))"
   ]
  },
  {
   "cell_type": "code",
   "execution_count": 1,
   "metadata": {},
   "outputs": [
    {
     "name": "stderr",
     "output_type": "stream",
     "text": [
      "c:\\Python\\Python3.9.2\\lib\\site-packages\\qiskit\\visualization\\circuit\\matplotlib.py:266: FutureWarning: The default matplotlib drawer scheme will be changed to \"iqp\" in a following release. To silence this warning, specify the current default explicitly as style=\"clifford\", or the new default as style=\"iqp\".\n",
      "  self._style, def_font_ratio = load_style(self._style)\n"
     ]
    },
    {
     "data": {
      "image/png": "[encoded data removed]",
      "text/plain": [
       "<Figure size 146.797x565.88 with 1 Axes>"
      ]
     },
     "execution_count": 1,
     "metadata": {},
     "output_type": "execute_result"
    }
   ],
   "source": [
    "from qiskit import QuantumCircuit\n",
    "import numpy as np\n",
    "\n",
    "# Your original data points\n",
    "data_points = np.array([0.02860095, 0., 0.43550962, -0.95333518, 0., -0.71874285, 0.49941735, 0., -0.36650326])\n",
    "\n",
    "# Normalize data to [0, 2pi]\n",
    "min_val = data_points.min()\n",
    "max_val = data_points.max()\n",
    "normalized_angles = 2 * np.pi * (data_points - min_val) / (max_val - min_val)\n",
    "\n",
    "# Initialize a quantum circuit with 9 qubits\n",
    "qc = QuantumCircuit(len(data_points))\n",
    "\n",
    "# Apply Ry rotations to each qubit based on the normalized data points\n",
    "for i, angle in enumerate(normalized_angles):\n",
    "    qc.ry(angle, i)\n",
    "\n",
    "# Visualize the circuit\n",
    "qc.draw(output='mpl')\n"
   ]
  },
  {
   "cell_type": "code",
   "execution_count": 3,
   "metadata": {},
   "outputs": [
    {
     "data": {
      "image/png": "[encoded data removed]",
      "text/plain": [
       "<Figure size 146.797x565.88 with 1 Axes>"
      ]
     },
     "execution_count": 3,
     "metadata": {},
     "output_type": "execute_result"
    }
   ],
   "source": [
    "data_points = np.array([0.02860095, 0., 0.43550962, -0.95333518, 0., -0.71874285, 0.49941735, 0., -0.36650326])\n",
    "\n",
    "# Normalize data to [0, 2pi]\n",
    "min_val = data_points.min()\n",
    "max_val = data_points.max()\n",
    "normalized_angles = 2 * np.pi * (data_points - min_val) / (max_val - min_val)\n",
    "\n",
    "# Initialize a quantum circuit with 9 qubits\n",
    "qc = QuantumCircuit(len(data_points))\n",
    "\n",
    "# Apply Ry rotations to each qubit based on the normalized data points\n",
    "for i, angle in enumerate(normalized_angles):\n",
    "    qc.ry(angle, i)\n",
    "\n",
    "# Visualize the circuit\n",
    "qc.draw(output='mpl')"
   ]
  },
  {
   "cell_type": "code",
   "execution_count": 5,
   "metadata": {},
   "outputs": [
    {
     "name": "stderr",
     "output_type": "stream",
     "text": [
      "c:\\Python\\Python3.9.2\\lib\\site-packages\\qiskit\\visualization\\circuit\\matplotlib.py:266: FutureWarning: The default matplotlib drawer scheme will be changed to \"iqp\" in a following release. To silence this warning, specify the current default explicitly as style=\"clifford\", or the new default as style=\"iqp\".\n",
      "  self._style, def_font_ratio = load_style(self._style)\n"
     ]
    },
    {
     "data": {
      "image/png": "[encoded data removed]",
      "text/plain": [
       "<Figure size 146.797x565.88 with 1 Axes>"
      ]
     },
     "execution_count": 5,
     "metadata": {},
     "output_type": "execute_result"
    }
   ],
   "source": [
    "from qiskit.circuit import Parameter\n",
    "data_points = np.array([0.02860095, 0., 0.43550962, -0.95333518, 0., -0.71874285, 0.49941735, 0., -0.36650326])\n",
    "\n",
    "# Normalize data to [0, 2pi]\n",
    "min_val = data_points.min()\n",
    "max_val = data_points.max()\n",
    "normalized_angles = 2 * np.pi * (data_points - min_val) / (max_val - min_val)\n",
    "\n",
    "# Initialize a quantum circuit with 9 qubits\n",
    "qc = QuantumCircuit(len(data_points))\n",
    "\n",
    "# Apply Ry rotations to each qubit based on the normalized data points\n",
    "for i, angle in enumerate(normalized_angles):\n",
    "    qc.ry(angle, i)\n",
    "\n",
    "# Visualize the circuit\n",
    "qc.draw(output='mpl')\n",
    "param_x = Parameter(\"x\")\n",
    "feature_map = QuantumCircuit(len(data_points), name=\"fm\")\n",
    "for i, angle in enumerate(normalized_angles):\n",
    "    feature_map.ry(angle, i)\n",
    "    \n",
    "feature_map.draw(output='mpl')"
   ]
  }
 ],
 "metadata": {
  "kernelspec": {
   "display_name": "Python 3",
   "language": "python",
   "name": "python3"
  },
  "language_info": {
   "codemirror_mode": {
    "name": "ipython",
    "version": 3
   },
   "file_extension": ".py",
   "mimetype": "text/x-python",
   "name": "python",
   "nbconvert_exporter": "python",
   "pygments_lexer": "ipython3",
   "version": "3.9.2"
  }
 },
 "nbformat": 4,
 "nbformat_minor": 2
}
