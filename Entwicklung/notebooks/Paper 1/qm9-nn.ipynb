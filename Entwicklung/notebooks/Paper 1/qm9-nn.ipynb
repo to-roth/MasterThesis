{
 "cells": [
  {
   "cell_type": "code",
   "execution_count": 16,
   "metadata": {},
   "outputs": [],
   "source": [
    "import torch\n",
    "from torch_geometric.data import Data\n",
    "import numpy as np\n",
    "import tensorflow as tf\n",
    "import torch\n",
    "import torch.nn as nn\n",
    "from torch_geometric.datasets import QM9\n",
    "import numpy as np\n",
    "from torch.utils.data import random_split\n",
    "# import jax\n",
    "import matplotlib.pyplot as plt\n",
    "import os"
   ]
  },
  {
   "cell_type": "code",
   "execution_count": 17,
   "metadata": {},
   "outputs": [],
   "source": [
    "qm9 = QM9(os.path.join(os.getcwd(), 'qm9_data'))"
   ]
  },
  {
   "cell_type": "code",
   "execution_count": 18,
   "metadata": {},
   "outputs": [
    {
     "name": "stdout",
     "output_type": "stream",
     "text": [
      "Data(x=[5, 11], edge_index=[2, 8], edge_attr=[8, 4], y=[1, 19], pos=[5, 3], z=[5], name='gdb_1', idx=[1])\n",
      "tensor([6, 1, 1, 1, 1])\n",
      "tensor([[-1.2700e-02,  1.0858e+00,  8.0000e-03],\n",
      "        [ 2.2000e-03, -6.0000e-03,  2.0000e-03],\n",
      "        [ 1.0117e+00,  1.4638e+00,  3.0000e-04],\n",
      "        [-5.4080e-01,  1.4475e+00, -8.7660e-01],\n",
      "        [-5.2380e-01,  1.4379e+00,  9.0640e-01]])\n"
     ]
    }
   ],
   "source": [
    "for d in qm9:\n",
    "    print(d)\n",
    "    print(d.z)\n",
    "    print(d.pos)\n",
    "    break\n"
   ]
  },
  {
   "cell_type": "code",
   "execution_count": 19,
   "metadata": {},
   "outputs": [
    {
     "name": "stdout",
     "output_type": "stream",
     "text": [
      "130831 130831\n"
     ]
    }
   ],
   "source": [
    "features = []\n",
    "labels = []\n",
    "\n",
    "for d in qm9:\n",
    "    features.append(d.pos.numpy())\n",
    "    labels.append(d.y[0][7].numpy())\n",
    "    \n",
    "print(len(features), len(labels))"
   ]
  },
  {
   "cell_type": "code",
   "execution_count": 20,
   "metadata": {},
   "outputs": [
    {
     "name": "stdout",
     "output_type": "stream",
     "text": [
      "[[-3.2200e-02  1.5402e+00  1.0700e-02]\n",
      " [ 3.3800e-02  7.5000e-03  1.8000e-03]\n",
      " [ 7.1380e-01 -5.0860e-01 -1.2730e+00]\n",
      " [ 7.3850e-01 -5.2220e-01  1.2575e+00]\n",
      " [ 9.7520e-01  1.9741e+00  5.3000e-03]\n",
      " [-5.6200e-01  1.9223e+00 -8.6840e-01]\n",
      " [-5.4820e-01  1.9127e+00  9.0210e-01]\n",
      " [-9.9750e-01 -3.7310e-01  9.8000e-03]\n",
      " [ 1.7507e+00 -1.5590e-01 -1.3327e+00]\n",
      " [ 7.3450e-01 -1.6033e+00 -1.2994e+00]\n",
      " [ 1.9370e-01 -1.6090e-01 -2.1720e+00]\n",
      " [ 2.3610e-01 -1.8380e-01  2.1701e+00]\n",
      " [ 7.5960e-01 -1.6171e+00  1.2723e+00]\n",
      " [ 1.7764e+00 -1.6990e-01  1.3005e+00]\n",
      " [ 0.0000e+00  0.0000e+00  0.0000e+00]\n",
      " [ 0.0000e+00  0.0000e+00  0.0000e+00]\n",
      " [ 0.0000e+00  0.0000e+00  0.0000e+00]\n",
      " [ 0.0000e+00  0.0000e+00  0.0000e+00]\n",
      " [ 0.0000e+00  0.0000e+00  0.0000e+00]\n",
      " [ 0.0000e+00  0.0000e+00  0.0000e+00]\n",
      " [ 0.0000e+00  0.0000e+00  0.0000e+00]\n",
      " [ 0.0000e+00  0.0000e+00  0.0000e+00]\n",
      " [ 0.0000e+00  0.0000e+00  0.0000e+00]\n",
      " [ 0.0000e+00  0.0000e+00  0.0000e+00]\n",
      " [ 0.0000e+00  0.0000e+00  0.0000e+00]\n",
      " [ 0.0000e+00  0.0000e+00  0.0000e+00]\n",
      " [ 0.0000e+00  0.0000e+00  0.0000e+00]\n",
      " [ 0.0000e+00  0.0000e+00  0.0000e+00]\n",
      " [ 0.0000e+00  0.0000e+00  0.0000e+00]]\n"
     ]
    }
   ],
   "source": [
    "# Calculate the maximum shape in each dimension\n",
    "max_shape = tuple(max(sizes) for sizes in zip(*[arr.shape for arr in features]))\n",
    "\n",
    "# Pad each array to have the same shape\n",
    "normalized_features = [np.pad(arr, [(0, max_shape[0] - arr.shape[0]), (0, max_shape[1] - arr.shape[1])], mode='constant', constant_values=0) for arr in features]\n",
    "\n",
    "# Now normalized_features is a list of NumPy arrays of the same shape\n",
    "print(normalized_features[20])"
   ]
  },
  {
   "cell_type": "code",
   "execution_count": 21,
   "metadata": {},
   "outputs": [],
   "source": [
    "labels = np.array(labels)"
   ]
  },
  {
   "cell_type": "code",
   "execution_count": 22,
   "metadata": {},
   "outputs": [],
   "source": [
    "normalized_features = np.array(normalized_features)"
   ]
  },
  {
   "cell_type": "code",
   "execution_count": 23,
   "metadata": {},
   "outputs": [
    {
     "name": "stdout",
     "output_type": "stream",
     "text": [
      "Mean =  -11178.966 Std = 1085.5746\n",
      "130831\n",
      "8.880844\n"
     ]
    }
   ],
   "source": [
    "from sklearn.model_selection import train_test_split\n",
    "from qiskit_algorithms.utils import algorithm_globals\n",
    "from sklearn.preprocessing import StandardScaler, MinMaxScaler\n",
    "from sklearn.decomposition import PCA\n",
    "\n",
    "\n",
    "train_labelm = np.mean(labels)\n",
    "train_labelstd = np.std(labels)\n",
    "\n",
    "print(\"Mean = \", train_labelm, \"Std =\", train_labelstd)\n",
    "\n",
    "transformed_labels = (labels - train_labelm) / train_labelstd\n",
    "print(len(transformed_labels))\n",
    "print(transformed_labels[1])\n",
    "\n",
    "test_size=0.2\n",
    "train_features, test_features, train_labels, test_labels = train_test_split(\n",
    "    normalized_features, transformed_labels, train_size=0.8, random_state=algorithm_globals.random_seed\n",
    ")"
   ]
  },
  {
   "cell_type": "code",
   "execution_count": 24,
   "metadata": {},
   "outputs": [],
   "source": [
    "# Build a simple neural network model\n",
    "model = tf.keras.Sequential([\n",
    "    tf.keras.layers.Flatten(input_shape=(29, 3)),\n",
    "    tf.keras.layers.Dense(64, activation='relu'),  # Assuming 3 atoms with 3 coordinates each\n",
    "    tf.keras.layers.Dense(32, activation='relu'),\n",
    "    tf.keras.layers.Dense(1)  # Output layer for regression\n",
    "])"
   ]
  },
  {
   "cell_type": "code",
   "execution_count": 25,
   "metadata": {},
   "outputs": [
    {
     "name": "stdout",
     "output_type": "stream",
     "text": [
      "Epoch 1/50\n",
      "5888/5888 [==============================] - 10s 2ms/step - loss: 0.5198 - val_loss: 0.4448\n",
      "Epoch 2/50\n",
      "5888/5888 [==============================] - 8s 1ms/step - loss: 0.4100 - val_loss: 0.4021\n",
      "Epoch 3/50\n",
      "5888/5888 [==============================] - 9s 1ms/step - loss: 0.3769 - val_loss: 0.3849\n",
      "Epoch 4/50\n",
      "5888/5888 [==============================] - 8s 1ms/step - loss: 0.3585 - val_loss: 0.3766\n",
      "Epoch 5/50\n",
      "5888/5888 [==============================] - 8s 1ms/step - loss: 0.3424 - val_loss: 0.3618\n",
      "Epoch 6/50\n",
      "5888/5888 [==============================] - 8s 1ms/step - loss: 0.3316 - val_loss: 0.3508\n",
      "Epoch 7/50\n",
      "5888/5888 [==============================] - 8s 1ms/step - loss: 0.3233 - val_loss: 0.3523\n",
      "Epoch 8/50\n",
      "5888/5888 [==============================] - 8s 1ms/step - loss: 0.3161 - val_loss: 0.3446\n",
      "Epoch 9/50\n",
      "5888/5888 [==============================] - 9s 1ms/step - loss: 0.3104 - val_loss: 0.3463\n",
      "Epoch 10/50\n",
      "5888/5888 [==============================] - 8s 1ms/step - loss: 0.3061 - val_loss: 0.3437\n",
      "Epoch 11/50\n",
      "5888/5888 [==============================] - 7s 1ms/step - loss: 0.3015 - val_loss: 0.3404\n",
      "Epoch 12/50\n",
      "5888/5888 [==============================] - 7s 1ms/step - loss: 0.2980 - val_loss: 0.3411\n",
      "Epoch 13/50\n",
      "5888/5888 [==============================] - 7s 1ms/step - loss: 0.2931 - val_loss: 0.3363\n",
      "Epoch 14/50\n",
      "5888/5888 [==============================] - 7s 1ms/step - loss: 0.2910 - val_loss: 0.3408\n",
      "Epoch 15/50\n",
      "5888/5888 [==============================] - 7s 1ms/step - loss: 0.2891 - val_loss: 0.3343\n",
      "Epoch 16/50\n",
      "5888/5888 [==============================] - 7s 1ms/step - loss: 0.2861 - val_loss: 0.3350\n",
      "Epoch 17/50\n",
      "5888/5888 [==============================] - 7s 1ms/step - loss: 0.2842 - val_loss: 0.3328\n",
      "Epoch 18/50\n",
      "5888/5888 [==============================] - 7s 1ms/step - loss: 0.2811 - val_loss: 0.3303\n",
      "Epoch 19/50\n",
      "5888/5888 [==============================] - 6s 1ms/step - loss: 0.2793 - val_loss: 0.3357\n",
      "Epoch 20/50\n",
      "5888/5888 [==============================] - 7s 1ms/step - loss: 0.2781 - val_loss: 0.3294\n",
      "Epoch 21/50\n",
      "5888/5888 [==============================] - 7s 1ms/step - loss: 0.2755 - val_loss: 0.3337\n",
      "Epoch 22/50\n",
      "5888/5888 [==============================] - 7s 1ms/step - loss: 0.2739 - val_loss: 0.3367\n",
      "Epoch 23/50\n",
      "5888/5888 [==============================] - 8s 1ms/step - loss: 0.2728 - val_loss: 0.3244\n",
      "Epoch 24/50\n",
      "5888/5888 [==============================] - 7s 1ms/step - loss: 0.2711 - val_loss: 0.3317\n",
      "Epoch 25/50\n",
      "5888/5888 [==============================] - 7s 1ms/step - loss: 0.2686 - val_loss: 0.3309\n",
      "Epoch 26/50\n",
      "5888/5888 [==============================] - 7s 1ms/step - loss: 0.2686 - val_loss: 0.3346\n",
      "Epoch 27/50\n",
      "5888/5888 [==============================] - 7s 1ms/step - loss: 0.2668 - val_loss: 0.3283\n",
      "Epoch 28/50\n",
      "5888/5888 [==============================] - 8s 1ms/step - loss: 0.2655 - val_loss: 0.3308\n",
      "Epoch 29/50\n",
      "5888/5888 [==============================] - 7s 1ms/step - loss: 0.2640 - val_loss: 0.3306\n",
      "Epoch 30/50\n",
      "5888/5888 [==============================] - 7s 1ms/step - loss: 0.2632 - val_loss: 0.3420\n",
      "Epoch 31/50\n",
      "5888/5888 [==============================] - 7s 1ms/step - loss: 0.2618 - val_loss: 0.3439\n",
      "Epoch 32/50\n",
      "5888/5888 [==============================] - 7s 1ms/step - loss: 0.2613 - val_loss: 0.3269\n",
      "Epoch 33/50\n",
      "5888/5888 [==============================] - 8s 1ms/step - loss: 0.2595 - val_loss: 0.3268\n",
      "Epoch 34/50\n",
      "5888/5888 [==============================] - 8s 1ms/step - loss: 0.2596 - val_loss: 0.3374\n",
      "Epoch 35/50\n",
      "5888/5888 [==============================] - 9s 1ms/step - loss: 0.2577 - val_loss: 0.3263\n",
      "Epoch 36/50\n",
      "5888/5888 [==============================] - 9s 2ms/step - loss: 0.2576 - val_loss: 0.3382\n",
      "Epoch 37/50\n",
      "5888/5888 [==============================] - 9s 2ms/step - loss: 0.2564 - val_loss: 0.3328\n",
      "Epoch 38/50\n",
      "5888/5888 [==============================] - 10s 2ms/step - loss: 0.2554 - val_loss: 0.3320\n",
      "Epoch 39/50\n",
      "5888/5888 [==============================] - 12s 2ms/step - loss: 0.2551 - val_loss: 0.3280\n",
      "Epoch 40/50\n",
      "5888/5888 [==============================] - 10s 2ms/step - loss: 0.2542 - val_loss: 0.3403\n",
      "Epoch 41/50\n",
      "5888/5888 [==============================] - 8s 1ms/step - loss: 0.2531 - val_loss: 0.3404\n",
      "Epoch 42/50\n",
      "5888/5888 [==============================] - 7s 1ms/step - loss: 0.2526 - val_loss: 0.3293\n",
      "Epoch 43/50\n",
      "5888/5888 [==============================] - 7s 1ms/step - loss: 0.2520 - val_loss: 0.3286\n",
      "Epoch 44/50\n",
      "5888/5888 [==============================] - 7s 1ms/step - loss: 0.2513 - val_loss: 0.3239\n",
      "Epoch 45/50\n",
      "5888/5888 [==============================] - 7s 1ms/step - loss: 0.2498 - val_loss: 0.3319\n",
      "Epoch 46/50\n",
      "5888/5888 [==============================] - 7s 1ms/step - loss: 0.2500 - val_loss: 0.3364\n",
      "Epoch 47/50\n",
      "5888/5888 [==============================] - 7s 1ms/step - loss: 0.2491 - val_loss: 0.3273\n",
      "Epoch 48/50\n",
      "5888/5888 [==============================] - 7s 1ms/step - loss: 0.2483 - val_loss: 0.3266\n",
      "Epoch 49/50\n",
      "5888/5888 [==============================] - 7s 1ms/step - loss: 0.2480 - val_loss: 0.3266\n",
      "Epoch 50/50\n",
      "5888/5888 [==============================] - 7s 1ms/step - loss: 0.2481 - val_loss: 0.3285\n"
     ]
    },
    {
     "data": {
      "text/plain": [
       "<keras.callbacks.History at 0x1abfe6d43d0>"
      ]
     },
     "execution_count": 25,
     "metadata": {},
     "output_type": "execute_result"
    }
   ],
   "source": [
    "# Compile the model\n",
    "model.compile(optimizer='adam', loss='mean_squared_error')\n",
    "\n",
    "# Train the model\n",
    "model.fit(train_features, train_labels, epochs=50, batch_size=16, validation_split=0.1)\n"
   ]
  },
  {
   "cell_type": "code",
   "execution_count": 26,
   "metadata": {},
   "outputs": [
    {
     "name": "stdout",
     "output_type": "stream",
     "text": [
      "818/818 [==============================] - 1s 939us/step - loss: 0.3092\n",
      "Mean Squared Error on Test Set: 0.3092377185821533\n",
      "818/818 [==============================] - 1s 810us/step\n"
     ]
    }
   ],
   "source": [
    "# Evaluate the model on the test set\n",
    "loss = model.evaluate(test_features, test_labels)\n",
    "print(f'Mean Squared Error on Test Set: {loss}')\n",
    "\n",
    "# Make predictions\n",
    "predictions = model.predict(test_features)"
   ]
  },
  {
   "cell_type": "code",
   "execution_count": 27,
   "metadata": {},
   "outputs": [
    {
     "name": "stdout",
     "output_type": "stream",
     "text": [
      "MSE: 364427.9375\n",
      "RMSE: 603.6786499023438\n",
      "R-squared (R2) Score: 0.6964466998197361\n"
     ]
    },
    {
     "data": {
      "image/png": "[encoded data removed]",
      "text/plain": [
       "<Figure size 432x288 with 1 Axes>"
      ]
     },
     "metadata": {
      "needs_background": "light"
     },
     "output_type": "display_data"
    }
   ],
   "source": [
    "from sklearn.metrics import mean_squared_error\n",
    "from sklearn.metrics import mean_absolute_error\n",
    "from sklearn.metrics import r2_score\n",
    "import matplotlib.pyplot as plt\n",
    "\n",
    "\n",
    "# Inverse transform the transformed labels\n",
    "predictions = (predictions * train_labelstd) + train_labelm\n",
    "test_labels = (test_labels * train_labelstd) + train_labelm\n",
    "\n",
    "\n",
    "mse = mean_squared_error(test_labels, predictions)\n",
    "print(f'MSE: {mse}')\n",
    "\n",
    "rmse = np.sqrt(mse)\n",
    "print(f'RMSE: {rmse}')\n",
    "\n",
    "r2 = r2_score(test_labels, predictions)\n",
    "print(\"R-squared (R2) Score:\", r2)\n",
    "\n",
    "\n",
    "\"\"\" plt.scatter(test_labels, predictions) \"\"\"\n",
    "plt.plot(test_labels, test_labels, \"-\")\n",
    "plt.plot(test_labels, predictions, \".\")\n",
    "plt.xlabel('Actual Energy')\n",
    "plt.ylabel('Predicted Energy')\n",
    "plt.title(' ')\n",
    "plt.show()"
   ]
  }
 ],
 "metadata": {
  "kernelspec": {
   "display_name": "Python 3",
   "language": "python",
   "name": "python3"
  },
  "language_info": {
   "codemirror_mode": {
    "name": "ipython",
    "version": 3
   },
   "file_extension": ".py",
   "mimetype": "text/x-python",
   "name": "python",
   "nbconvert_exporter": "python",
   "pygments_lexer": "ipython3",
   "version": "3.9.2"
  }
 },
 "nbformat": 4,
 "nbformat_minor": 2
}
