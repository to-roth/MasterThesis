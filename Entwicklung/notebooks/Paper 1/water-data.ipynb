{
 "cells": [
  {
   "cell_type": "code",
   "execution_count": 2,
   "metadata": {},
   "outputs": [
    {
     "name": "stdout",
     "output_type": "stream",
     "text": [
      "[ 0.02860095  0.          0.43550962 -0.95333518  0.         -0.71874285\n",
      "  0.49941735  0.         -0.36650326] [-76.24559204]\n",
      "36003 36003\n"
     ]
    }
   ],
   "source": [
    "import numpy as np\n",
    "import tensorflow as tf\n",
    "import torch\n",
    "import torch.nn as nn\n",
    "from torch_geometric.datasets import QM9\n",
    "import numpy as np\n",
    "from torch.utils.data import random_split\n",
    "# import jax\n",
    "import matplotlib.pyplot as plt\n",
    "import os\n",
    "\n",
    "# Function to read and process data from the input format\n",
    "def read_data(file_path):\n",
    "    with open(file_path, 'r') as file:\n",
    "        lines = file.readlines()\n",
    "\n",
    "    features = []\n",
    "    labels = []\n",
    "\n",
    "    i = 0\n",
    "    while i < len(lines):\n",
    "        num_atoms = int(lines[i])\n",
    "        energy = float(lines[i + 1].split()[-1])\n",
    "        label = np.array([energy])\n",
    "\n",
    "        atom_data = [line.split() for line in lines[i + 2:i + 2 + num_atoms]]\n",
    "        coordinates = np.array([[float(coord) for coord in atom[1:]] for atom in atom_data])\n",
    "\n",
    "        features.append(coordinates.flatten())\n",
    "        labels.append(label)\n",
    "\n",
    "        i += 2 + num_atoms\n",
    "\n",
    "    return np.array(features), np.array(labels)\n",
    "\n",
    "\n",
    "# Read data from the provided file\n",
    "file_path = 'water-DZ-F12-STATIC-g32n10-3M_PES-DZERO.xyz'\n",
    "features, labels = read_data(file_path)\n",
    "print(features[3], labels[3])\n",
    "print(len(features), len(labels))"
   ]
  },
  {
   "cell_type": "code",
   "execution_count": 3,
   "metadata": {},
   "outputs": [
    {
     "name": "stdout",
     "output_type": "stream",
     "text": [
      "Mean =  -76.1641637248784 Std = 0.2517673682079156\n",
      "36003\n",
      "[-0.43583645]\n",
      "[0.625      0.         0.83375822 0.48264757 0.         0.2191029\n",
      " 0.44083859 0.         0.28240713]\n"
     ]
    }
   ],
   "source": [
    "from sklearn.model_selection import train_test_split\n",
    "from qiskit_algorithms.utils import algorithm_globals\n",
    "from sklearn.preprocessing import StandardScaler, MinMaxScaler\n",
    "from sklearn.decomposition import PCA\n",
    "\n",
    "features = MinMaxScaler().fit_transform(features)\n",
    "\n",
    "train_labelm = np.mean(labels)\n",
    "train_labelstd = np.std(labels)\n",
    "\n",
    "print(\"Mean = \", train_labelm, \"Std =\", train_labelstd)\n",
    "\n",
    "transformed_labels = (labels - train_labelm) / train_labelstd\n",
    "print(len(transformed_labels))\n",
    "print(transformed_labels[1])\n",
    "print(features[1])\n",
    "\n",
    "test_size=0.2\n",
    "train_features, test_features, train_labels, test_labels = train_test_split(\n",
    "    features, transformed_labels, train_size=0.8, random_state=algorithm_globals.random_seed\n",
    ")\n"
   ]
  },
  {
   "cell_type": "code",
   "execution_count": 4,
   "metadata": {},
   "outputs": [],
   "source": [
    "# Build a simple neural network model\n",
    "model = tf.keras.Sequential([\n",
    "    tf.keras.layers.Dense(64, activation='relu', input_shape=(9,)),  # Assuming 3 atoms with 3 coordinates each\n",
    "    tf.keras.layers.Dense(32, activation='relu'),\n",
    "    tf.keras.layers.Dense(1)  # Output layer for regression\n",
    "])"
   ]
  },
  {
   "cell_type": "code",
   "execution_count": 5,
   "metadata": {},
   "outputs": [
    {
     "name": "stdout",
     "output_type": "stream",
     "text": [
      "Epoch 1/50\n"
     ]
    },
    {
     "name": "stdout",
     "output_type": "stream",
     "text": [
      "1621/1621 [==============================] - 4s 2ms/step - loss: 0.3105 - val_loss: 0.0536\n",
      "Epoch 2/50\n",
      "1621/1621 [==============================] - 2s 1ms/step - loss: 0.0425 - val_loss: 0.0306\n",
      "Epoch 3/50\n",
      "1621/1621 [==============================] - 2s 1ms/step - loss: 0.0191 - val_loss: 0.0101\n",
      "Epoch 4/50\n",
      "1621/1621 [==============================] - 2s 1ms/step - loss: 0.0132 - val_loss: 0.0064\n",
      "Epoch 5/50\n",
      "1621/1621 [==============================] - 2s 1ms/step - loss: 0.0089 - val_loss: 0.0039\n",
      "Epoch 6/50\n",
      "1621/1621 [==============================] - 2s 1ms/step - loss: 0.0064 - val_loss: 0.0023\n",
      "Epoch 7/50\n",
      "1621/1621 [==============================] - 2s 1ms/step - loss: 0.0065 - val_loss: 0.0022\n",
      "Epoch 8/50\n",
      "1621/1621 [==============================] - 2s 1ms/step - loss: 0.0050 - val_loss: 0.0023\n",
      "Epoch 9/50\n",
      "1621/1621 [==============================] - 2s 1ms/step - loss: 0.0047 - val_loss: 0.0030\n",
      "Epoch 10/50\n",
      "1621/1621 [==============================] - 2s 1ms/step - loss: 0.0057 - val_loss: 0.0102\n",
      "Epoch 11/50\n",
      "1621/1621 [==============================] - 2s 1ms/step - loss: 0.0039 - val_loss: 0.0017\n",
      "Epoch 12/50\n",
      "1621/1621 [==============================] - 2s 1ms/step - loss: 0.0042 - val_loss: 0.0018\n",
      "Epoch 13/50\n",
      "1621/1621 [==============================] - 3s 2ms/step - loss: 0.0059 - val_loss: 0.0081\n",
      "Epoch 14/50\n",
      "1621/1621 [==============================] - 3s 2ms/step - loss: 0.0035 - val_loss: 0.0025\n",
      "Epoch 15/50\n",
      "1621/1621 [==============================] - 2s 1ms/step - loss: 0.0047 - val_loss: 0.0190\n",
      "Epoch 16/50\n",
      "1621/1621 [==============================] - 2s 1ms/step - loss: 0.0050 - val_loss: 0.0012\n",
      "Epoch 17/50\n",
      "1621/1621 [==============================] - 2s 1ms/step - loss: 0.0052 - val_loss: 0.0021\n",
      "Epoch 18/50\n",
      "1621/1621 [==============================] - 2s 1ms/step - loss: 0.0036 - val_loss: 0.0032\n",
      "Epoch 19/50\n",
      "1621/1621 [==============================] - 2s 1ms/step - loss: 0.0037 - val_loss: 0.0050\n",
      "Epoch 20/50\n",
      "1621/1621 [==============================] - 2s 1ms/step - loss: 0.0036 - val_loss: 0.0014\n",
      "Epoch 21/50\n",
      "1621/1621 [==============================] - 2s 1ms/step - loss: 0.0028 - val_loss: 0.0025\n",
      "Epoch 22/50\n",
      "1621/1621 [==============================] - 2s 1ms/step - loss: 0.0042 - val_loss: 8.4674e-04\n",
      "Epoch 23/50\n",
      "1621/1621 [==============================] - 2s 1ms/step - loss: 0.0025 - val_loss: 0.0012\n",
      "Epoch 24/50\n",
      "1621/1621 [==============================] - 2s 1ms/step - loss: 0.0036 - val_loss: 0.0031\n",
      "Epoch 25/50\n",
      "1621/1621 [==============================] - 2s 1ms/step - loss: 0.0029 - val_loss: 9.6829e-04\n",
      "Epoch 26/50\n",
      "1621/1621 [==============================] - 2s 1ms/step - loss: 0.0056 - val_loss: 0.0013\n",
      "Epoch 27/50\n",
      "1621/1621 [==============================] - 2s 1ms/step - loss: 0.0024 - val_loss: 0.0132\n",
      "Epoch 28/50\n",
      "1621/1621 [==============================] - 2s 1ms/step - loss: 0.0028 - val_loss: 0.0040\n",
      "Epoch 29/50\n",
      "1621/1621 [==============================] - 2s 1ms/step - loss: 0.0038 - val_loss: 0.0018\n",
      "Epoch 30/50\n",
      "1621/1621 [==============================] - 2s 1ms/step - loss: 0.0031 - val_loss: 0.0013\n",
      "Epoch 31/50\n",
      "1621/1621 [==============================] - 2s 1ms/step - loss: 0.0027 - val_loss: 0.0019\n",
      "Epoch 32/50\n",
      "1621/1621 [==============================] - 2s 1ms/step - loss: 0.0031 - val_loss: 0.0017\n",
      "Epoch 33/50\n",
      "1621/1621 [==============================] - 2s 1ms/step - loss: 0.0038 - val_loss: 0.0020\n",
      "Epoch 34/50\n",
      "1621/1621 [==============================] - 2s 1ms/step - loss: 0.0029 - val_loss: 0.0161\n",
      "Epoch 35/50\n",
      "1621/1621 [==============================] - 2s 1ms/step - loss: 0.0024 - val_loss: 0.0011\n",
      "Epoch 36/50\n",
      "1621/1621 [==============================] - 2s 1ms/step - loss: 0.0034 - val_loss: 0.0021\n",
      "Epoch 37/50\n",
      "1621/1621 [==============================] - 2s 1ms/step - loss: 0.0023 - val_loss: 0.0014\n",
      "Epoch 38/50\n",
      "1621/1621 [==============================] - 2s 1ms/step - loss: 0.0033 - val_loss: 0.0038\n",
      "Epoch 39/50\n",
      "1621/1621 [==============================] - 2s 1ms/step - loss: 0.0023 - val_loss: 0.0014\n",
      "Epoch 40/50\n",
      "1621/1621 [==============================] - 2s 1ms/step - loss: 0.0021 - val_loss: 0.0044\n",
      "Epoch 41/50\n",
      "1621/1621 [==============================] - 2s 1ms/step - loss: 0.0037 - val_loss: 9.6304e-04\n",
      "Epoch 42/50\n",
      "1621/1621 [==============================] - 3s 2ms/step - loss: 0.0036 - val_loss: 0.0019\n",
      "Epoch 43/50\n",
      "1621/1621 [==============================] - 2s 1ms/step - loss: 0.0023 - val_loss: 9.1197e-04\n",
      "Epoch 44/50\n",
      "1621/1621 [==============================] - 2s 1ms/step - loss: 0.0032 - val_loss: 5.5445e-04\n",
      "Epoch 45/50\n",
      "1621/1621 [==============================] - 2s 1ms/step - loss: 0.0021 - val_loss: 8.1070e-04\n",
      "Epoch 46/50\n",
      "1621/1621 [==============================] - 2s 1ms/step - loss: 0.0042 - val_loss: 8.3539e-04\n",
      "Epoch 47/50\n",
      "1621/1621 [==============================] - 2s 1ms/step - loss: 0.0031 - val_loss: 0.0012\n",
      "Epoch 48/50\n",
      "1621/1621 [==============================] - 2s 1ms/step - loss: 0.0020 - val_loss: 0.0011\n",
      "Epoch 49/50\n",
      "1621/1621 [==============================] - 2s 1ms/step - loss: 0.0039 - val_loss: 0.0027\n",
      "Epoch 50/50\n",
      "1621/1621 [==============================] - 2s 1ms/step - loss: 0.0020 - val_loss: 0.0107\n"
     ]
    },
    {
     "data": {
      "text/plain": [
       "<keras.callbacks.History at 0x1c8b935d400>"
      ]
     },
     "execution_count": 5,
     "metadata": {},
     "output_type": "execute_result"
    }
   ],
   "source": [
    "# Compile the model\n",
    "model.compile(optimizer='adam', loss='mean_squared_error')\n",
    "\n",
    "# Train the model\n",
    "model.fit(train_features, train_labels, epochs=50, batch_size=16, validation_split=0.1)\n"
   ]
  },
  {
   "cell_type": "code",
   "execution_count": 6,
   "metadata": {},
   "outputs": [
    {
     "name": "stdout",
     "output_type": "stream",
     "text": [
      "226/226 [==============================] - 0s 1ms/step - loss: 0.0112\n",
      "Mean Squared Error on Test Set: 0.011240586638450623\n",
      "226/226 [==============================] - 0s 1ms/step\n"
     ]
    }
   ],
   "source": [
    "# Evaluate the model on the test set\n",
    "loss = model.evaluate(test_features, test_labels)\n",
    "print(f'Mean Squared Error on Test Set: {loss}')\n",
    "\n",
    "# Make predictions\n",
    "predictions = model.predict(test_features)"
   ]
  },
  {
   "cell_type": "code",
   "execution_count": 7,
   "metadata": {},
   "outputs": [
    {
     "name": "stdout",
     "output_type": "stream",
     "text": [
      "MSE: 0.000712585803663379\n",
      "RMSE: 0.026694302831566496\n",
      "R-squared (R2) Score: 0.988423587120476\n"
     ]
    },
    {
     "data": {
      "image/png": "[encoded data removed]",
      "text/plain": [
       "<Figure size 432x288 with 1 Axes>"
      ]
     },
     "metadata": {
      "needs_background": "light"
     },
     "output_type": "display_data"
    }
   ],
   "source": [
    "from sklearn.metrics import mean_squared_error\n",
    "from sklearn.metrics import mean_absolute_error\n",
    "from sklearn.metrics import r2_score\n",
    "import matplotlib.pyplot as plt\n",
    "\n",
    "\n",
    "# Inverse transform the transformed labels\n",
    "predictions = (predictions * train_labelstd) + train_labelm\n",
    "test_labels = (test_labels * train_labelstd) + train_labelm\n",
    "\n",
    "\n",
    "mse = mean_squared_error(test_labels, predictions)\n",
    "print(f'MSE: {mse}')\n",
    "\n",
    "rmse = np.sqrt(mean_squared_error(test_labels, predictions))\n",
    "print(f'RMSE: {rmse}')\n",
    "\n",
    "r2 = r2_score(test_labels, predictions)\n",
    "print(\"R-squared (R2) Score:\", r2)\n",
    "\n",
    "\n",
    "\"\"\" plt.scatter(test_labels, predictions) \"\"\"\n",
    "plt.plot(test_labels, test_labels, \"-\")\n",
    "plt.plot(test_labels, predictions, \".\")\n",
    "plt.xlabel('Actual Energy')\n",
    "plt.ylabel('Predicted Energy')\n",
    "#plt.title('Actual vs. Predicted Energy')\n",
    "plt.show()"
   ]
  }
 ],
 "metadata": {
  "kernelspec": {
   "display_name": "Python 3",
   "language": "python",
   "name": "python3"
  },
  "language_info": {
   "codemirror_mode": {
    "name": "ipython",
    "version": 3
   },
   "file_extension": ".py",
   "mimetype": "text/x-python",
   "name": "python",
   "nbconvert_exporter": "python",
   "pygments_lexer": "ipython3",
   "version": "3.9.2"
  }
 },
 "nbformat": 4,
 "nbformat_minor": 2
}
