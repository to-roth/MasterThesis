{
 "cells": [
  {
   "cell_type": "code",
   "execution_count": 41,
   "metadata": {},
   "outputs": [],
   "source": [
    "import matplotlib.pyplot as plt\n",
    "import numpy as np\n",
    "from qiskit_algorithms.optimizers import COBYLA, L_BFGS_B\n",
    "from qiskit_algorithms.utils import algorithm_globals\n",
    "from qiskit import Aer\n",
    "from squlearn import Executor\n",
    "from squlearn.observables import IsingHamiltonian\n",
    "from squlearn.qnn import QNNRegressor, SquaredLoss\n",
    "from squlearn.optimizers import SLSQP, Adam, SPSA\n",
    "from squlearn.observables import SummedPaulis, CustomObservable\n",
    "from squlearn.qnn import QNNRegressor, SquaredLoss\n",
    "from squlearn.optimizers import Adam\n",
    "from squlearn import Executor\n",
    "\n",
    "\n",
    "from qiskit.circuit.library import TwoLocal\n",
    "from squlearn.encoding_circuit import *\n",
    "\n",
    "algorithm_globals.random_seed = 42\n",
    "\n"
   ]
  },
  {
   "cell_type": "code",
   "execution_count": 42,
   "metadata": {},
   "outputs": [
    {
     "name": "stdout",
     "output_type": "stream",
     "text": [
      "[[ 0.0089378   0.          0.43550962 -0.79730093  0.         -0.59766049\n",
      "   0.6554516   0.         -0.48758562]\n",
      " [ 0.00715024  0.          0.43550962 -0.78311599  0.         -0.586653\n",
      "   0.66963653  0.         -0.49859311]\n",
      " [-0.02323827  0.          0.43812567 -0.57271362  0.         -0.42028506\n",
      "   0.94152185  0.         -0.70647973]] [[-76.27315556]\n",
      " [-76.27389312]\n",
      " [-76.2506881 ]]\n",
      "40 40\n"
     ]
    }
   ],
   "source": [
    "\n",
    "# Function to read and process data from the input format\n",
    "def read_data(file_path):\n",
    "    with open(file_path, 'r') as file:\n",
    "        lines = file.readlines()\n",
    "\n",
    "    features = []\n",
    "    labels = []\n",
    "\n",
    "    i = 0\n",
    "    while i < 200:\n",
    "        num_atoms = int(lines[i])\n",
    "        energy = float(lines[i + 1].split()[-1])\n",
    "        label = np.array([energy])\n",
    "\n",
    "        atom_data = [line.split() for line in lines[i + 2:i + 2 + num_atoms]]\n",
    "        coordinates = np.array([[float(coord) for coord in atom[1:]] for atom in atom_data])\n",
    "\n",
    "        features.append(coordinates.flatten())\n",
    "        labels.append(label)\n",
    "\n",
    "        i += 2 + num_atoms\n",
    "\n",
    "    return np.array(features), np.array(labels)\n",
    "\n",
    "\n",
    "# Read data from the provided file\n",
    "file_path = 'water-DZ-F12-STATIC-g32n10-3M_PES-DZERO.xyz'\n",
    "features, labels = read_data(file_path)\n",
    "print(features[:3], labels[:3])\n",
    "print(len(features), len(labels))"
   ]
  },
  {
   "cell_type": "code",
   "execution_count": 43,
   "metadata": {},
   "outputs": [
    {
     "name": "stdout",
     "output_type": "stream",
     "text": [
      "Mean =  -76.049059695275 Std = 0.1479334099080764\n",
      "40\n",
      "[-1.51982859]\n",
      "[0.625      0.         0.88480711 0.18156391 0.         0.25814234\n",
      " 0.68614404 0.         0.44156504]\n"
     ]
    }
   ],
   "source": [
    "from sklearn.model_selection import train_test_split\n",
    "from qiskit_algorithms.utils import algorithm_globals\n",
    "from sklearn.preprocessing import StandardScaler, MinMaxScaler\n",
    "from sklearn.decomposition import PCA\n",
    "\n",
    "features = MinMaxScaler().fit_transform(features)\n",
    "\n",
    "train_labelm = np.mean(labels)\n",
    "train_labelstd = np.std(labels)\n",
    "\n",
    "print(\"Mean = \", train_labelm, \"Std =\", train_labelstd)\n",
    "\n",
    "transformed_labels = (labels - train_labelm) / train_labelstd\n",
    "print(len(transformed_labels))\n",
    "print(transformed_labels[1])\n",
    "print(features[1])\n",
    "\n",
    "test_size=0.2\n",
    "train_features, test_features, train_labels, test_labels = train_test_split(\n",
    "    features, transformed_labels, train_size=0.8, random_state=algorithm_globals.random_seed\n",
    ")\n"
   ]
  },
  {
   "cell_type": "code",
   "execution_count": 30,
   "metadata": {},
   "outputs": [
    {
     "name": "stdout",
     "output_type": "stream",
     "text": [
      "SparsePauliOp(['IIIIIIIII', 'IIIIIIIIZ', 'IIIIIIIZI', 'IIIIIIZII', 'IIIIIZIII', 'IIIIZIIII', 'IIIZIIIII', 'IIZIIIIII', 'IZIIIIIII', 'ZIIIIIIII', 'IIIIIIIZZ', 'IIIIIIZIZ', 'IIIIIIZZI', 'IIIIIZIIZ', 'IIIIIZIZI', 'IIIIIZZII', 'IIIIZIIIZ', 'IIIIZIIZI', 'IIIIZIZII', 'IIIIZZIII', 'IIIZIIIIZ', 'IIIZIIIZI', 'IIIZIIZII', 'IIIZIZIII', 'IIIZZIIII', 'IIZIIIIIZ', 'IIZIIIIZI', 'IIZIIIZII', 'IIZIIZIII', 'IIZIZIIII', 'IIZZIIIII', 'IZIIIIIIZ', 'IZIIIIIZI', 'IZIIIIZII', 'IZIIIZIII', 'IZIIZIIII', 'IZIZIIIII', 'IZZIIIIII', 'ZIIIIIIIZ', 'ZIIIIIIZI', 'ZIIIIIZII', 'ZIIIIZIII', 'ZIIIZIIII', 'ZIIZIIIII', 'ZIZIIIIII', 'ZZIIIIIII'],\n",
      "              coeffs=[ParameterExpression(1.0*p[0]), ParameterExpression(1.0*p[1]),\n",
      " ParameterExpression(1.0*p[1]), ParameterExpression(1.0*p[1]),\n",
      " ParameterExpression(1.0*p[1]), ParameterExpression(1.0*p[1]),\n",
      " ParameterExpression(1.0*p[1]), ParameterExpression(1.0*p[1]),\n",
      " ParameterExpression(1.0*p[1]), ParameterExpression(1.0*p[1]),\n",
      " ParameterExpression(1.0*p[2]), ParameterExpression(1.0*p[2]),\n",
      " ParameterExpression(1.0*p[2]), ParameterExpression(1.0*p[2]),\n",
      " ParameterExpression(1.0*p[2]), ParameterExpression(1.0*p[2]),\n",
      " ParameterExpression(1.0*p[2]), ParameterExpression(1.0*p[2]),\n",
      " ParameterExpression(1.0*p[2]), ParameterExpression(1.0*p[2]),\n",
      " ParameterExpression(1.0*p[2]), ParameterExpression(1.0*p[2]),\n",
      " ParameterExpression(1.0*p[2]), ParameterExpression(1.0*p[2]),\n",
      " ParameterExpression(1.0*p[2]), ParameterExpression(1.0*p[2]),\n",
      " ParameterExpression(1.0*p[2]), ParameterExpression(1.0*p[2]),\n",
      " ParameterExpression(1.0*p[2]), ParameterExpression(1.0*p[2]),\n",
      " ParameterExpression(1.0*p[2]), ParameterExpression(1.0*p[2]),\n",
      " ParameterExpression(1.0*p[2]), ParameterExpression(1.0*p[2]),\n",
      " ParameterExpression(1.0*p[2]), ParameterExpression(1.0*p[2]),\n",
      " ParameterExpression(1.0*p[2]), ParameterExpression(1.0*p[2]),\n",
      " ParameterExpression(1.0*p[2]), ParameterExpression(1.0*p[2]),\n",
      " ParameterExpression(1.0*p[2]), ParameterExpression(1.0*p[2]),\n",
      " ParameterExpression(1.0*p[2]), ParameterExpression(1.0*p[2]),\n",
      " ParameterExpression(1.0*p[2]), ParameterExpression(1.0*p[2])])\n",
      "SparsePauliOp(['IIIIIIIII', 'IIZIIIIII', 'IZIIIIIII', 'ZIIIIIIII'],\n",
      "              coeffs=[ParameterExpression(1.0*p[0]), ParameterExpression(1.0*p[1]),\n",
      " ParameterExpression(1.0*p[2]), ParameterExpression(1.0*p[3])])\n"
     ]
    }
   ],
   "source": [
    "executor = Executor(\"statevector_simulator\")\n",
    "\n",
    "ising_op = IsingHamiltonian(9, I=\"S\", Z=\"S\", ZZ=\"S\")\n",
    "print(ising_op)\n",
    "observable_list = [\"IIIIIIIII\",\"IIZIIIIII\",\"IZIIIIIII\",\"ZIIIIIIII\"]\n",
    "\n",
    "observable  = CustomObservable(num_qubits=9, operator_string=observable_list, parameterized=True)\n",
    "print(observable)"
   ]
  },
  {
   "cell_type": "code",
   "execution_count": 19,
   "metadata": {},
   "outputs": [],
   "source": [
    "def callback_graph(obj_func_eval):\n",
    "    clear_output(wait=True)\n",
    "    objective_func_vals.append(obj_func_eval)\n",
    "    plt.title(\"Objective function value against iteration\")\n",
    "    plt.xlabel(\"Iteration\")\n",
    "    plt.ylabel(\"Objective function value\")\n",
    "    plt.plot(range(len(objective_func_vals)), objective_func_vals)\n",
    "    plt.show()"
   ]
  },
  {
   "cell_type": "code",
   "execution_count": 29,
   "metadata": {},
   "outputs": [
    {
     "name": "stderr",
     "output_type": "stream",
     "text": [
      "c:\\Python\\Python3.9.2\\lib\\site-packages\\qiskit\\visualization\\circuit\\matplotlib.py:266: FutureWarning: The default matplotlib drawer scheme will be changed to \"iqp\" in a following release. To silence this warning, specify the current default explicitly as style=\"clifford\", or the new default as style=\"iqp\".\n",
      "  self._style, def_font_ratio = load_style(self._style)\n"
     ]
    },
    {
     "data": {
      "image/png": "[encoded data removed]",
      "text/plain": [
       "<Figure size 387.597x565.88 with 1 Axes>"
      ]
     },
     "execution_count": 29,
     "metadata": {},
     "output_type": "execute_result"
    }
   ],
   "source": [
    "enc_circ = YZ_CX_EncodingCircuit(9, num_features=9, num_layers=1)\n",
    "enc_circ.draw(\"mpl\")"
   ]
  },
  {
   "cell_type": "code",
   "execution_count": 45,
   "metadata": {},
   "outputs": [
    {
     "name": "stdout",
     "output_type": "stream",
     "text": [
      "[ 0.99853576 -1.37714305  0.25085507 -1.47306157  1.13679312  0.31335532\n",
      "  0.27774367 -1.48017336  0.31335532  0.2210415  -1.5148428   0.41354163\n",
      " -1.49642286 -1.47700275 -1.51982859  0.27774367  1.45922652 -1.36296732\n",
      "  0.25085507  0.70313044 -1.32851899  0.23210389  0.3583746   0.2210415\n",
      " -1.31891794  0.74985055  0.47960563  0.55727882 -1.44523037  0.64719136\n",
      "  0.3583746   1.45922652]\n"
     ]
    }
   ],
   "source": [
    "train_labels = np.array([i[0] for i in train_labels])\n",
    "print(train_labels)"
   ]
  },
  {
   "cell_type": "code",
   "execution_count": 32,
   "metadata": {},
   "outputs": [
    {
     "name": "stderr",
     "output_type": "stream",
     "text": [
      "c:\\Python\\Python3.9.2\\lib\\site-packages\\qiskit\\visualization\\circuit\\matplotlib.py:266: FutureWarning: The default matplotlib drawer scheme will be changed to \"iqp\" in a following release. To silence this warning, specify the current default explicitly as style=\"clifford\", or the new default as style=\"iqp\".\n",
      "  self._style, def_font_ratio = load_style(self._style)\n"
     ]
    },
    {
     "data": {
      "image/png": "[encoded data removed]",
      "text/plain": [
       "<Figure size 146.797x565.88 with 1 Axes>"
      ]
     },
     "execution_count": 32,
     "metadata": {},
     "output_type": "execute_result"
    }
   ],
   "source": [
    "from qiskit import QuantumCircuit\n",
    "from qiskit.circuit import Parameter, ParameterVector\n",
    "\n",
    "# Create a list of 9 Parameter objects for the 9 qubits\n",
    "#parameters = [Parameter(f'x{i}') for i in range(9)]\n",
    "parameters = ParameterVector('x', length=9)\n",
    "# Initialize the quantum circuit\n",
    "feature_map = QuantumCircuit(9)\n",
    "\n",
    "# Apply rotation gates with parameters to encode atom positions\n",
    "for i, param in enumerate(parameters):\n",
    "    feature_map.ry(param, i)\n",
    "    \n",
    "\n",
    "\"\"\" # Apply intra-group entanglement for each atom\n",
    "for i in range(0, 9, 3):\n",
    "    feature_map.cx(i, i+1)\n",
    "    feature_map.cx(i+1, i+2) \"\"\"\n",
    "\n",
    "\"\"\" feature_map.cx(2, 3)\n",
    "\n",
    "feature_map.cx(2, 6) \"\"\"\n",
    "\n",
    "feature_map.draw(\"mpl\")\n",
    "\n"
   ]
  },
  {
   "cell_type": "code",
   "execution_count": 33,
   "metadata": {},
   "outputs": [],
   "source": [
    "from squlearn.encoding_circuit import QiskitEncodingCircuit\n",
    "\n",
    "circuit = QiskitEncodingCircuit(feature_map)"
   ]
  },
  {
   "cell_type": "code",
   "execution_count": 34,
   "metadata": {},
   "outputs": [
    {
     "data": {
      "image/png": "[encoded data removed]",
      "text/plain": [
       "<Figure size 146.797x565.88 with 1 Axes>"
      ]
     },
     "execution_count": 34,
     "metadata": {},
     "output_type": "execute_result"
    }
   ],
   "source": [
    "circuit.draw(\"mpl\")"
   ]
  },
  {
   "cell_type": "code",
   "execution_count": 46,
   "metadata": {},
   "outputs": [
    {
     "name": "stdout",
     "output_type": "stream",
     "text": [
      "SparsePauliOp(['IIIIIIIII', 'IIIIIIIIZ', 'IIIIIIIZI', 'IIIIIIZII', 'IIIIIZIII', 'IIIIZIIII', 'IIIZIIIII', 'IIZIIIIII', 'IZIIIIIII', 'ZIIIIIIII', 'IIIIIIIZZ', 'IIIIIIZIZ', 'IIIIIIZZI', 'IIIIIZIIZ', 'IIIIIZIZI', 'IIIIIZZII', 'IIIIZIIIZ', 'IIIIZIIZI', 'IIIIZIZII', 'IIIIZZIII', 'IIIZIIIIZ', 'IIIZIIIZI', 'IIIZIIZII', 'IIIZIZIII', 'IIIZZIIII', 'IIZIIIIIZ', 'IIZIIIIZI', 'IIZIIIZII', 'IIZIIZIII', 'IIZIZIIII', 'IIZZIIIII', 'IZIIIIIIZ', 'IZIIIIIZI', 'IZIIIIZII', 'IZIIIZIII', 'IZIIZIIII', 'IZIZIIIII', 'IZZIIIIII', 'ZIIIIIIIZ', 'ZIIIIIIZI', 'ZIIIIIZII', 'ZIIIIZIII', 'ZIIIZIIII', 'ZIIZIIIII', 'ZIZIIIIII', 'ZZIIIIIII'],\n",
      "              coeffs=[ParameterExpression(1.0*p[0]), ParameterExpression(1.0*p[1]),\n",
      " ParameterExpression(1.0*p[1]), ParameterExpression(1.0*p[1]),\n",
      " ParameterExpression(1.0*p[1]), ParameterExpression(1.0*p[1]),\n",
      " ParameterExpression(1.0*p[1]), ParameterExpression(1.0*p[1]),\n",
      " ParameterExpression(1.0*p[1]), ParameterExpression(1.0*p[1]),\n",
      " ParameterExpression(1.0*p[2]), ParameterExpression(1.0*p[2]),\n",
      " ParameterExpression(1.0*p[2]), ParameterExpression(1.0*p[2]),\n",
      " ParameterExpression(1.0*p[2]), ParameterExpression(1.0*p[2]),\n",
      " ParameterExpression(1.0*p[2]), ParameterExpression(1.0*p[2]),\n",
      " ParameterExpression(1.0*p[2]), ParameterExpression(1.0*p[2]),\n",
      " ParameterExpression(1.0*p[2]), ParameterExpression(1.0*p[2]),\n",
      " ParameterExpression(1.0*p[2]), ParameterExpression(1.0*p[2]),\n",
      " ParameterExpression(1.0*p[2]), ParameterExpression(1.0*p[2]),\n",
      " ParameterExpression(1.0*p[2]), ParameterExpression(1.0*p[2]),\n",
      " ParameterExpression(1.0*p[2]), ParameterExpression(1.0*p[2]),\n",
      " ParameterExpression(1.0*p[2]), ParameterExpression(1.0*p[2]),\n",
      " ParameterExpression(1.0*p[2]), ParameterExpression(1.0*p[2]),\n",
      " ParameterExpression(1.0*p[2]), ParameterExpression(1.0*p[2]),\n",
      " ParameterExpression(1.0*p[2]), ParameterExpression(1.0*p[2]),\n",
      " ParameterExpression(1.0*p[2]), ParameterExpression(1.0*p[2]),\n",
      " ParameterExpression(1.0*p[2]), ParameterExpression(1.0*p[2]),\n",
      " ParameterExpression(1.0*p[2]), ParameterExpression(1.0*p[2]),\n",
      " ParameterExpression(1.0*p[2]), ParameterExpression(1.0*p[2])])\n",
      "\n",
      "\n",
      "fit:   0%|          | 0/100 [00:00<?, ?it/s]"
     ]
    },
    {
     "name": "stdout",
     "output_type": "stream",
     "text": [
      "fit:  17%|█▋        | 17/100 [04:16<20:50, 15.07s/it]\n",
      "\n",
      "\u001b[A\n",
      "\u001b[A\n",
      "\u001b[A\n",
      "\u001b[A\n",
      "\u001b[A\n",
      "\u001b[A\n",
      "\u001b[A\n",
      "\u001b[A\n",
      "\u001b[A\n",
      "\u001b[A\n",
      "\u001b[A\n",
      "\u001b[A\n",
      "\u001b[A\n",
      "\u001b[A\n",
      "\u001b[A\n",
      "\u001b[A\n",
      "\u001b[A\n",
      "\u001b[A\n",
      "\u001b[A\n",
      "\u001b[A\n",
      "\u001b[A\n",
      "\u001b[A\n",
      "\u001b[A\n",
      "\u001b[A\n",
      "\u001b[A\n",
      "\u001b[A\n",
      "\u001b[A\n",
      "\u001b[A\n",
      "\u001b[A\n",
      "\u001b[A\n",
      "\u001b[A\n",
      "\u001b[A\n",
      "\u001b[A\n",
      "\u001b[A\n",
      "\u001b[A\n",
      "\u001b[A\n",
      "\u001b[A\n",
      "\u001b[A\n",
      "\u001b[A\n",
      "\u001b[A\n",
      "\u001b[A\n",
      "\u001b[A\n",
      "\u001b[A\n",
      "\u001b[A\n",
      "\u001b[A\n",
      "\u001b[A\n",
      "\u001b[A\n",
      "\u001b[A\n",
      "\u001b[A\n",
      "\u001b[A\n",
      "\u001b[A\n",
      "\u001b[A\n",
      "\u001b[A\n",
      "\u001b[A\n",
      "\u001b[A\n",
      "\u001b[A\n",
      "\u001b[A\n",
      "\u001b[A\n",
      "\u001b[A\n",
      "\u001b[A\n",
      "\u001b[A\n",
      "\u001b[A\n",
      "\u001b[A\n",
      "\u001b[A\n",
      "\u001b[A\n",
      "\u001b[A\n",
      "\u001b[A\n",
      "\u001b[A\n",
      "\u001b[A\n",
      "\u001b[A\n",
      "\u001b[A\n",
      "\u001b[A\n",
      "\u001b[A\n",
      "\u001b[A\n",
      "\u001b[A\n",
      "\u001b[A\n",
      "\u001b[A\n",
      "\u001b[A\n",
      "\u001b[A\n",
      "\u001b[A\n",
      "\u001b[A\n",
      "\u001b[A\n",
      "\u001b[A\n",
      "\u001b[A\n",
      "\u001b[A\n",
      "\u001b[A\n",
      "\u001b[A\n",
      "\u001b[A\n",
      "\u001b[A\n",
      "\u001b[A\n",
      "\u001b[A\n",
      "\u001b[A\n",
      "\u001b[A\n",
      "\u001b[A\n",
      "\u001b[A\n",
      "\u001b[A\n",
      "\u001b[A\n",
      "\u001b[A\n",
      "\u001b[A\n",
      "\u001b[AResult PQC params: []\n",
      "Result operator params: [-0.0052526  -0.00383929 -0.00242996]\n"
     ]
    }
   ],
   "source": [
    "import numpy as np\n",
    "import matplotlib.pyplot as plt\n",
    "\n",
    "from sklearn.preprocessing import MinMaxScaler\n",
    "from squlearn import Executor\n",
    "from squlearn.encoding_circuit import ChebyshevRx\n",
    "from squlearn.observables import IsingHamiltonian\n",
    "from squlearn.qnn import QNNRegressor, SquaredLoss\n",
    "from squlearn.optimizers import SLSQP, Adam, SPSA\n",
    "\n",
    "executor = Executor(\"statevector_simulator\")\n",
    "\n",
    "nqubits = 9\n",
    "number_of_layers = 1\n",
    "\n",
    "ising_op = IsingHamiltonian(nqubits, I=\"S\", Z=\"S\", ZZ=\"S\")\n",
    "print(ising_op)\n",
    "\n",
    "reg = QNNRegressor(circuit, ising_op, executor, SquaredLoss(), Adam(\n",
    "    options={\"maxiter\":100}\n",
    "))\n",
    "\n",
    "\n",
    "reg.fit(train_features, train_labels)\n",
    "print(\"Result PQC params:\", reg.param)\n",
    "print(\"Result operator params:\", reg.param_op)"
   ]
  },
  {
   "cell_type": "code",
   "execution_count": 47,
   "metadata": {},
   "outputs": [],
   "source": [
    "predictions = reg.predict(test_features)"
   ]
  },
  {
   "cell_type": "code",
   "execution_count": 48,
   "metadata": {},
   "outputs": [
    {
     "name": "stdout",
     "output_type": "stream",
     "text": [
      "RMSE: 0.15336678171354587\n",
      "MSE: 0.3763218771351476\n",
      "R-squared (R2) Score: -0.5549750997669292\n"
     ]
    },
    {
     "data": {
      "image/png": "[encoded data removed]",
      "text/plain": [
       "<Figure size 432x288 with 1 Axes>"
      ]
     },
     "metadata": {
      "needs_background": "light"
     },
     "output_type": "display_data"
    }
   ],
   "source": [
    "from sklearn.metrics import mean_squared_error\n",
    "from sklearn.metrics import mean_absolute_error\n",
    "from sklearn.metrics import r2_score\n",
    "import matplotlib.pyplot as plt\n",
    "\n",
    "\n",
    "# Inverse transform the transformed labels\n",
    "predictions = (predictions * train_labelstd) + train_labelm\n",
    "test_labels = (test_labels * train_labelstd) + train_labelm\n",
    "\n",
    "\n",
    "rmse = np.sqrt(mean_squared_error(test_labels, predictions))\n",
    "print(f'RMSE: {rmse}')\n",
    "\n",
    "mse = np.sqrt(mean_absolute_error(test_labels, predictions))\n",
    "print(f'MSE: {mse}')\n",
    "\n",
    "r2 = r2_score(test_labels, predictions)\n",
    "print(\"R-squared (R2) Score:\", r2)\n",
    "\n",
    "\n",
    "\"\"\" plt.scatter(test_labels, predictions) \"\"\"\n",
    "plt.plot(test_labels, test_labels, \"-\")\n",
    "plt.plot(test_labels, predictions, \".\")\n",
    "plt.xlabel('Actual Energy')\n",
    "plt.ylabel('Predicted Energy')\n",
    "plt.title('Actual vs. Predicted Energy')\n",
    "plt.show()"
   ]
  }
 ],
 "metadata": {
  "kernelspec": {
   "display_name": "Python 3",
   "language": "python",
   "name": "python3"
  },
  "language_info": {
   "codemirror_mode": {
    "name": "ipython",
    "version": 3
   },
   "file_extension": ".py",
   "mimetype": "text/x-python",
   "name": "python",
   "nbconvert_exporter": "python",
   "pygments_lexer": "ipython3",
   "version": "3.9.2"
  }
 },
 "nbformat": 4,
 "nbformat_minor": 2
}
